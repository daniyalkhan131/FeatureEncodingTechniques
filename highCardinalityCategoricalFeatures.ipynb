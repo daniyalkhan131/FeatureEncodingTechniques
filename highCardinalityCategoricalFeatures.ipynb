{
  "nbformat": 4,
  "nbformat_minor": 0,
  "metadata": {
    "colab": {
      "provenance": []
    },
    "kernelspec": {
      "name": "python3",
      "display_name": "Python 3"
    },
    "language_info": {
      "name": "python"
    }
  },
  "cells": [
    {
      "cell_type": "code",
      "execution_count": 1,
      "metadata": {
        "id": "iVc17QkFykmu"
      },
      "outputs": [],
      "source": [
        "# high cardinality around 300K unique values"
      ]
    },
    {
      "cell_type": "code",
      "source": [
        "#if you're to use OHE on a feature it will result to lots of more features.\n",
        "\n",
        "#1- Perfrom a count on each individual item on the feature space.\n",
        "#For instance let's assume I have a column/feature named cointries,\n",
        "#thah states the number of countries a person is travelled to in a year.\n",
        "#You could Perform an count of number of times each country appears and\n",
        "#apply then number of times the country appear rather than the country.\n",
        "#Lets say we have USA appearing 15 times, you should replace with\n",
        "#USA doing that will result to greatly chunking off the idea of having\n",
        "#lots of features through the use of OHE (One Hot Encoding)\n",
        "#rhis is called Count or frequency encoding\n",
        "\n",
        "#2- You can follow the following steps to deal with high cardinality in\n",
        "#your data:\n",
        "#Check for unique values in your feature.\n",
        "#Try to drop the category which in less frequent or has a frequency of\n",
        "#less then 1% or you can encode it with some special category say(\"rare\").\n",
        "\n",
        "#3- (donot think it is a good way)\n",
        "#We can consider more feature engineering.\n",
        "#For example, if we have zip codes we can aggregate area codes\n",
        "#into regions such as cities or states. Also, MCA ( PCA for categorical\n",
        "#variables) as random projections would be recommended.\n",
        "\n",
        "#4- feature hashing"
      ],
      "metadata": {
        "id": "4LuXSgh5yx-5"
      },
      "execution_count": 4,
      "outputs": []
    },
    {
      "cell_type": "code",
      "source": [
        "#for more read this https://www.kaggle.com/discussions/general/16927"
      ],
      "metadata": {
        "id": "7nrgAlIk3aly"
      },
      "execution_count": 5,
      "outputs": []
    },
    {
      "cell_type": "code",
      "source": [],
      "metadata": {
        "id": "48_ZMoYg3c1q"
      },
      "execution_count": null,
      "outputs": []
    }
  ]
}